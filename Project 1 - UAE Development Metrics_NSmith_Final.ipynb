{
 "cells": [
  {
   "cell_type": "markdown",
   "metadata": {},
   "source": [
    "# Project: Investigating the UAE's Oil Production and its Impact on Quality of Life Indicators\n",
    "\n",
    "## Table of Contents\n",
    "<ul>\n",
    "<li><a href=\"#intro\">Introduction</a></li>\n",
    "<li><a href=\"#wrangling\">Data Wrangling</a></li>\n",
    "<li><a href=\"#eda\">Exploratory Data Analysis</a></li>\n",
    "<li><a href=\"#conclusions\">Conclusions</a></li>\n",
    "</ul>"
   ]
  },
  {
   "cell_type": "markdown",
   "metadata": {},
   "source": [
    "<a id='intro'></a>\n",
    "## Introduction\n"
   ]
  },
  {
   "cell_type": "markdown",
   "metadata": {},
   "source": [
    "I currently live and work in the United Arab Emirates. The country's development and success is widely believed to be tied to it investing its vast oil wealth to develop  a glitzy tourism industry, a major global financial hub that bridges Asia and the west, and one of the largest international transport hubs for all major continents. \n",
    "\n",
    "This project will examine how oil production in the UAE may relate to increases or decreases in the following indicators that are often used to determine the relative progress of a country towards having an advanced economy and society. I will examine the following indicators while keeping in mind the added caveats:\n",
    "\n",
    "Annual Population Growth: Approximately 90% of UAE residents are foreigners, mass population changes would likely be caused by economic externalaties that force expats to leave, though greater population growth could also indicate increases in immigration\n",
    "\n",
    "GDP as Income Per Person (PPP): Income is untaxed and closely tied to foreign passport a resident holds, demographic changes immigration and emmigration likely impact this metric, but are not available in the data.\n",
    "\n",
    "Life Expectancy: May be skewed by large expat communities whose life expectancy would be tied to the living standards of their home countries\n",
    "\n",
    "*Data measures include UAE residents and citizens\n",
    "\n",
    "Questions:\n",
    "1. Does oil production correlate positively or negatively with the other metrics examined? What might these correlations indicate?\n",
    "2. What, if any, correllations exist between independent variables and do they provide insights not found when\n",
    "   comparing the independent and dependent variables\n",
    " \n",
    "\n",
    "How are indicators measuresd?\n",
    "1. Oil: Crude production per person (in tonnes oil equivalent)\n",
    "2. Income: Income per person per year as a measure of GDP (adjusted for purchase power parity w/international USD)\n",
    "3. Life Expectancy: average expected age based on mortality patterns at the time\n",
    "4. Population: exponential rate of growth year over year, expressed as a percentage"
   ]
  },
  {
   "cell_type": "code",
   "execution_count": 1,
   "metadata": {},
   "outputs": [],
   "source": [
    "import pandas as pd\n",
    "import numpy as np\n",
    "import matplotlib.pyplot as plt\n",
    "%matplotlib inline\n",
    "\n",
    "population = pd.read_csv('annual_pop_growth.csv')\n",
    "income = pd.read_csv('income_per_person_gdp.csv')\n",
    "life = pd.read_csv('life_expectancy_years.csv')\n",
    "oil = pd.read_csv('oil_production_per_person.csv')"
   ]
  },
  {
   "cell_type": "markdown",
   "metadata": {},
   "source": [
    "<a id='wrangling'></a>\n",
    "## Data Wrangling\n",
    "\n",
    "\n",
    "### General Properties"
   ]
  },
  {
   "cell_type": "code",
   "execution_count": 2,
   "metadata": {},
   "outputs": [
    {
     "name": "stdout",
     "output_type": "stream",
     "text": [
      "<class 'pandas.core.frame.DataFrame'>\n",
      "RangeIndex: 49 entries, 0 to 48\n",
      "Data columns (total 53 columns):\n",
      " #   Column   Non-Null Count  Dtype  \n",
      "---  ------   --------------  -----  \n",
      " 0   country  49 non-null     object \n",
      " 1   1965     32 non-null     float64\n",
      " 2   1966     33 non-null     float64\n",
      " 3   1967     34 non-null     float64\n",
      " 4   1968     35 non-null     float64\n",
      " 5   1969     35 non-null     float64\n",
      " 6   1970     35 non-null     float64\n",
      " 7   1971     36 non-null     float64\n",
      " 8   1972     37 non-null     float64\n",
      " 9   1973     37 non-null     float64\n",
      " 10  1974     37 non-null     float64\n",
      " 11  1975     37 non-null     float64\n",
      " 12  1976     37 non-null     float64\n",
      " 13  1977     37 non-null     float64\n",
      " 14  1978     37 non-null     float64\n",
      " 15  1979     37 non-null     float64\n",
      " 16  1980     37 non-null     float64\n",
      " 17  1981     38 non-null     float64\n",
      " 18  1982     38 non-null     float64\n",
      " 19  1983     38 non-null     float64\n",
      " 20  1984     38 non-null     float64\n",
      " 21  1985     43 non-null     float64\n",
      " 22  1986     44 non-null     float64\n",
      " 23  1987     45 non-null     float64\n",
      " 24  1988     45 non-null     float64\n",
      " 25  1989     45 non-null     float64\n",
      " 26  1990     45 non-null     float64\n",
      " 27  1991     45 non-null     float64\n",
      " 28  1992     46 non-null     float64\n",
      " 29  1993     47 non-null     float64\n",
      " 30  1994     47 non-null     float64\n",
      " 31  1995     47 non-null     float64\n",
      " 32  1996     47 non-null     float64\n",
      " 33  1997     47 non-null     float64\n",
      " 34  1998     47 non-null     float64\n",
      " 35  1999     47 non-null     float64\n",
      " 36  2000     47 non-null     float64\n",
      " 37  2001     47 non-null     float64\n",
      " 38  2002     47 non-null     float64\n",
      " 39  2003     48 non-null     float64\n",
      " 40  2004     48 non-null     float64\n",
      " 41  2005     48 non-null     float64\n",
      " 42  2006     48 non-null     float64\n",
      " 43  2007     48 non-null     float64\n",
      " 44  2008     48 non-null     float64\n",
      " 45  2009     48 non-null     float64\n",
      " 46  2010     48 non-null     float64\n",
      " 47  2011     48 non-null     float64\n",
      " 48  2012     49 non-null     float64\n",
      " 49  2013     49 non-null     float64\n",
      " 50  2014     49 non-null     float64\n",
      " 51  2015     49 non-null     float64\n",
      " 52  2016     49 non-null     float64\n",
      "dtypes: float64(52), object(1)\n",
      "memory usage: 20.4+ KB\n"
     ]
    },
    {
     "data": {
      "text/plain": [
       "(None,\n",
       " country     0\n",
       " 1965       17\n",
       " 1966       16\n",
       " 1967       15\n",
       " 1968       14\n",
       " 1969       14\n",
       " 1970       14\n",
       " 1971       13\n",
       " 1972       12\n",
       " 1973       12\n",
       " 1974       12\n",
       " 1975       12\n",
       " 1976       12\n",
       " 1977       12\n",
       " 1978       12\n",
       " 1979       12\n",
       " 1980       12\n",
       " 1981       11\n",
       " 1982       11\n",
       " 1983       11\n",
       " 1984       11\n",
       " 1985        6\n",
       " 1986        5\n",
       " 1987        4\n",
       " 1988        4\n",
       " 1989        4\n",
       " 1990        4\n",
       " 1991        4\n",
       " 1992        3\n",
       " 1993        2\n",
       " 1994        2\n",
       " 1995        2\n",
       " 1996        2\n",
       " 1997        2\n",
       " 1998        2\n",
       " 1999        2\n",
       " 2000        2\n",
       " 2001        2\n",
       " 2002        2\n",
       " 2003        1\n",
       " 2004        1\n",
       " 2005        1\n",
       " 2006        1\n",
       " 2007        1\n",
       " 2008        1\n",
       " 2009        1\n",
       " 2010        1\n",
       " 2011        1\n",
       " 2012        0\n",
       " 2013        0\n",
       " 2014        0\n",
       " 2015        0\n",
       " 2016        0\n",
       " dtype: int64)"
      ]
     },
     "execution_count": 2,
     "metadata": {},
     "output_type": "execute_result"
    }
   ],
   "source": [
    "# Load your data and print out a few lines. Perform operations to inspect data\n",
    "# types and look for instances of missing or possibly errant data.\n",
    "\n",
    "oil.info(), oil.isnull().sum()"
   ]
  },
  {
   "cell_type": "markdown",
   "metadata": {},
   "source": [
    "Examining the oil data shows that there are some null values, and that values for oil produced are floats. \n",
    "Further inspection is needed to determine if data for the UAE contains null values.\n",
    "Since the oil data is the independent variable, and the years included range from 1965-2016, the analysis for the rest of the data will need to be narrowed down to the same time period to remain consistent."
   ]
  },
  {
   "cell_type": "code",
   "execution_count": 3,
   "metadata": {},
   "outputs": [
    {
     "data": {
      "text/html": [
       "<div>\n",
       "<style scoped>\n",
       "    .dataframe tbody tr th:only-of-type {\n",
       "        vertical-align: middle;\n",
       "    }\n",
       "\n",
       "    .dataframe tbody tr th {\n",
       "        vertical-align: top;\n",
       "    }\n",
       "\n",
       "    .dataframe thead th {\n",
       "        text-align: right;\n",
       "    }\n",
       "</style>\n",
       "<table border=\"1\" class=\"dataframe\">\n",
       "  <thead>\n",
       "    <tr style=\"text-align: right;\">\n",
       "      <th></th>\n",
       "      <th>country</th>\n",
       "      <th>1965</th>\n",
       "      <th>1966</th>\n",
       "      <th>1967</th>\n",
       "      <th>1968</th>\n",
       "      <th>1969</th>\n",
       "      <th>1970</th>\n",
       "      <th>1971</th>\n",
       "      <th>1972</th>\n",
       "      <th>1973</th>\n",
       "      <th>...</th>\n",
       "      <th>2007</th>\n",
       "      <th>2008</th>\n",
       "      <th>2009</th>\n",
       "      <th>2010</th>\n",
       "      <th>2011</th>\n",
       "      <th>2012</th>\n",
       "      <th>2013</th>\n",
       "      <th>2014</th>\n",
       "      <th>2015</th>\n",
       "      <th>2016</th>\n",
       "    </tr>\n",
       "  </thead>\n",
       "  <tbody>\n",
       "    <tr>\n",
       "      <th>42</th>\n",
       "      <td>United Arab Emirates</td>\n",
       "      <td>90.8</td>\n",
       "      <td>109.0</td>\n",
       "      <td>109.0</td>\n",
       "      <td>132.0</td>\n",
       "      <td>142.0</td>\n",
       "      <td>157.0</td>\n",
       "      <td>192.0</td>\n",
       "      <td>190.0</td>\n",
       "      <td>178.0</td>\n",
       "      <td>...</td>\n",
       "      <td>23.1</td>\n",
       "      <td>20.5</td>\n",
       "      <td>16.5</td>\n",
       "      <td>16.1</td>\n",
       "      <td>17.4</td>\n",
       "      <td>17.4</td>\n",
       "      <td>18.3</td>\n",
       "      <td>18.3</td>\n",
       "      <td>19.2</td>\n",
       "      <td>19.7</td>\n",
       "    </tr>\n",
       "  </tbody>\n",
       "</table>\n",
       "<p>1 rows × 53 columns</p>\n",
       "</div>"
      ],
      "text/plain": [
       "                 country  1965   1966   1967   1968   1969   1970   1971  \\\n",
       "42  United Arab Emirates  90.8  109.0  109.0  132.0  142.0  157.0  192.0   \n",
       "\n",
       "     1972   1973  ...  2007  2008  2009  2010  2011  2012  2013  2014  2015  \\\n",
       "42  190.0  178.0  ...  23.1  20.5  16.5  16.1  17.4  17.4  18.3  18.3  19.2   \n",
       "\n",
       "    2016  \n",
       "42  19.7  \n",
       "\n",
       "[1 rows x 53 columns]"
      ]
     },
     "execution_count": 3,
     "metadata": {},
     "output_type": "execute_result"
    }
   ],
   "source": [
    "oil.iloc[42:43]\n",
    "#For each dataset, we can isolate the UAE data row using .iloc. "
   ]
  },
  {
   "cell_type": "code",
   "execution_count": 4,
   "metadata": {},
   "outputs": [],
   "source": [
    "#We can now create a function that tests the UAE rows for null values\n",
    "def no_null(full_df):\n",
    "    uae_df = full_df[full_df['country'] == 'United Arab Emirates']\n",
    "    return uae_df.isnull().values.any()\n"
   ]
  },
  {
   "cell_type": "code",
   "execution_count": 19,
   "metadata": {},
   "outputs": [
    {
     "data": {
      "text/plain": [
       "False"
      ]
     },
     "execution_count": 19,
     "metadata": {},
     "output_type": "execute_result"
    }
   ],
   "source": [
    "no_null(oil)\n"
   ]
  },
  {
   "cell_type": "code",
   "execution_count": 20,
   "metadata": {},
   "outputs": [],
   "source": [
    "tmp_oil = oil.iloc[42:43]"
   ]
  },
  {
   "cell_type": "markdown",
   "metadata": {},
   "source": [
    "Since we can't see all the data in the UAE row above, we can run that row through our function to see if any columns contain null values. The function returns \"False\" meaning no null values are present. We can now do the same for all of the CSVs."
   ]
  },
  {
   "cell_type": "code",
   "execution_count": 6,
   "metadata": {},
   "outputs": [
    {
     "name": "stdout",
     "output_type": "stream",
     "text": [
      "<class 'pandas.core.frame.DataFrame'>\n",
      "RangeIndex: 193 entries, 0 to 192\n",
      "Data columns (total 60 columns):\n",
      " #   Column   Non-Null Count  Dtype  \n",
      "---  ------   --------------  -----  \n",
      " 0   country  193 non-null    object \n",
      " 1   1960     190 non-null    float64\n",
      " 2   1961     191 non-null    float64\n",
      " 3   1962     191 non-null    float64\n",
      " 4   1963     191 non-null    float64\n",
      " 5   1964     191 non-null    float64\n",
      " 6   1965     191 non-null    float64\n",
      " 7   1966     191 non-null    float64\n",
      " 8   1967     191 non-null    float64\n",
      " 9   1968     191 non-null    float64\n",
      " 10  1969     191 non-null    float64\n",
      " 11  1970     191 non-null    float64\n",
      " 12  1971     191 non-null    float64\n",
      " 13  1972     191 non-null    float64\n",
      " 14  1973     191 non-null    float64\n",
      " 15  1974     191 non-null    float64\n",
      " 16  1975     191 non-null    float64\n",
      " 17  1976     191 non-null    float64\n",
      " 18  1977     191 non-null    float64\n",
      " 19  1978     191 non-null    float64\n",
      " 20  1979     191 non-null    float64\n",
      " 21  1980     191 non-null    float64\n",
      " 22  1981     191 non-null    float64\n",
      " 23  1982     191 non-null    float64\n",
      " 24  1983     191 non-null    float64\n",
      " 25  1984     191 non-null    float64\n",
      " 26  1985     191 non-null    float64\n",
      " 27  1986     191 non-null    float64\n",
      " 28  1987     191 non-null    float64\n",
      " 29  1988     191 non-null    float64\n",
      " 30  1989     191 non-null    float64\n",
      " 31  1990     192 non-null    float64\n",
      " 32  1991     192 non-null    float64\n",
      " 33  1992     192 non-null    float64\n",
      " 34  1993     192 non-null    float64\n",
      " 35  1994     192 non-null    float64\n",
      " 36  1995     192 non-null    float64\n",
      " 37  1996     193 non-null    float64\n",
      " 38  1997     193 non-null    float64\n",
      " 39  1998     193 non-null    float64\n",
      " 40  1999     193 non-null    float64\n",
      " 41  2000     193 non-null    float64\n",
      " 42  2001     193 non-null    float64\n",
      " 43  2002     193 non-null    float64\n",
      " 44  2003     193 non-null    float64\n",
      " 45  2004     193 non-null    float64\n",
      " 46  2005     193 non-null    float64\n",
      " 47  2006     193 non-null    float64\n",
      " 48  2007     193 non-null    float64\n",
      " 49  2008     193 non-null    float64\n",
      " 50  2009     193 non-null    float64\n",
      " 51  2010     193 non-null    float64\n",
      " 52  2011     193 non-null    float64\n",
      " 53  2012     192 non-null    float64\n",
      " 54  2013     192 non-null    float64\n",
      " 55  2014     192 non-null    float64\n",
      " 56  2015     192 non-null    float64\n",
      " 57  2016     192 non-null    float64\n",
      " 58  2017     192 non-null    float64\n",
      " 59  2018     192 non-null    float64\n",
      "dtypes: float64(59), object(1)\n",
      "memory usage: 90.6+ KB\n"
     ]
    },
    {
     "data": {
      "text/plain": [
       "(None,\n",
       " country    0\n",
       " 1960       3\n",
       " 1961       2\n",
       " 1962       2\n",
       " 1963       2\n",
       " 1964       2\n",
       " 1965       2\n",
       " 1966       2\n",
       " 1967       2\n",
       " 1968       2\n",
       " 1969       2\n",
       " 1970       2\n",
       " 1971       2\n",
       " 1972       2\n",
       " 1973       2\n",
       " 1974       2\n",
       " 1975       2\n",
       " 1976       2\n",
       " 1977       2\n",
       " 1978       2\n",
       " 1979       2\n",
       " 1980       2\n",
       " 1981       2\n",
       " 1982       2\n",
       " 1983       2\n",
       " 1984       2\n",
       " 1985       2\n",
       " 1986       2\n",
       " 1987       2\n",
       " 1988       2\n",
       " 1989       2\n",
       " 1990       1\n",
       " 1991       1\n",
       " 1992       1\n",
       " 1993       1\n",
       " 1994       1\n",
       " 1995       1\n",
       " 1996       0\n",
       " 1997       0\n",
       " 1998       0\n",
       " 1999       0\n",
       " 2000       0\n",
       " 2001       0\n",
       " 2002       0\n",
       " 2003       0\n",
       " 2004       0\n",
       " 2005       0\n",
       " 2006       0\n",
       " 2007       0\n",
       " 2008       0\n",
       " 2009       0\n",
       " 2010       0\n",
       " 2011       0\n",
       " 2012       1\n",
       " 2013       1\n",
       " 2014       1\n",
       " 2015       1\n",
       " 2016       1\n",
       " 2017       1\n",
       " 2018       1\n",
       " dtype: int64)"
      ]
     },
     "execution_count": 6,
     "metadata": {},
     "output_type": "execute_result"
    }
   ],
   "source": [
    "population.info(), population.isnull().sum()\n",
    "# The population data also contains null values, so we need to check if the UAE row is also missing data."
   ]
  },
  {
   "cell_type": "code",
   "execution_count": 8,
   "metadata": {},
   "outputs": [
    {
     "data": {
      "text/html": [
       "<div>\n",
       "<style scoped>\n",
       "    .dataframe tbody tr th:only-of-type {\n",
       "        vertical-align: middle;\n",
       "    }\n",
       "\n",
       "    .dataframe tbody tr th {\n",
       "        vertical-align: top;\n",
       "    }\n",
       "\n",
       "    .dataframe thead th {\n",
       "        text-align: right;\n",
       "    }\n",
       "</style>\n",
       "<table border=\"1\" class=\"dataframe\">\n",
       "  <thead>\n",
       "    <tr style=\"text-align: right;\">\n",
       "      <th></th>\n",
       "      <th>country</th>\n",
       "      <th>1960</th>\n",
       "      <th>1961</th>\n",
       "      <th>1962</th>\n",
       "      <th>1963</th>\n",
       "      <th>1964</th>\n",
       "      <th>1965</th>\n",
       "      <th>1966</th>\n",
       "      <th>1967</th>\n",
       "      <th>1968</th>\n",
       "      <th>...</th>\n",
       "      <th>2009</th>\n",
       "      <th>2010</th>\n",
       "      <th>2011</th>\n",
       "      <th>2012</th>\n",
       "      <th>2013</th>\n",
       "      <th>2014</th>\n",
       "      <th>2015</th>\n",
       "      <th>2016</th>\n",
       "      <th>2017</th>\n",
       "      <th>2018</th>\n",
       "    </tr>\n",
       "  </thead>\n",
       "  <tbody>\n",
       "    <tr>\n",
       "      <th>182</th>\n",
       "      <td>United Arab Emirates</td>\n",
       "      <td>0.0582</td>\n",
       "      <td>0.0868</td>\n",
       "      <td>0.106</td>\n",
       "      <td>0.11</td>\n",
       "      <td>0.0982</td>\n",
       "      <td>0.0821</td>\n",
       "      <td>0.0653</td>\n",
       "      <td>0.0594</td>\n",
       "      <td>0.073</td>\n",
       "      <td>...</td>\n",
       "      <td>0.11</td>\n",
       "      <td>0.0769</td>\n",
       "      <td>0.0454</td>\n",
       "      <td>0.0215</td>\n",
       "      <td>0.00614</td>\n",
       "      <td>0.00177</td>\n",
       "      <td>0.00527</td>\n",
       "      <td>0.0105</td>\n",
       "      <td>0.0134</td>\n",
       "      <td>0.015</td>\n",
       "    </tr>\n",
       "  </tbody>\n",
       "</table>\n",
       "<p>1 rows × 60 columns</p>\n",
       "</div>"
      ],
      "text/plain": [
       "                  country    1960    1961   1962  1963    1964    1965  \\\n",
       "182  United Arab Emirates  0.0582  0.0868  0.106  0.11  0.0982  0.0821   \n",
       "\n",
       "       1966    1967   1968  ...  2009    2010    2011    2012     2013  \\\n",
       "182  0.0653  0.0594  0.073  ...  0.11  0.0769  0.0454  0.0215  0.00614   \n",
       "\n",
       "        2014     2015    2016    2017   2018  \n",
       "182  0.00177  0.00527  0.0105  0.0134  0.015  \n",
       "\n",
       "[1 rows x 60 columns]"
      ]
     },
     "execution_count": 8,
     "metadata": {},
     "output_type": "execute_result"
    }
   ],
   "source": [
    "population.iloc[182:183]\n",
    "# As previously mentioned, population data is expressed as a percentage. \n",
    "#This will likely require converting the decimals below to full percentages for graphing purposes."
   ]
  },
  {
   "cell_type": "code",
   "execution_count": 9,
   "metadata": {},
   "outputs": [
    {
     "data": {
      "text/plain": [
       "False"
      ]
     },
     "execution_count": 9,
     "metadata": {},
     "output_type": "execute_result"
    }
   ],
   "source": [
    "no_null(population)\n"
   ]
  },
  {
   "cell_type": "code",
   "execution_count": 21,
   "metadata": {},
   "outputs": [],
   "source": [
    "tmp_pop = population.iloc[182:183]"
   ]
  },
  {
   "cell_type": "markdown",
   "metadata": {},
   "source": [
    "The UAE population data also contains no null values, but it does contain some extra years that will need to be dropped."
   ]
  },
  {
   "cell_type": "code",
   "execution_count": 10,
   "metadata": {},
   "outputs": [
    {
     "name": "stdout",
     "output_type": "stream",
     "text": [
      "<class 'pandas.core.frame.DataFrame'>\n",
      "RangeIndex: 193 entries, 0 to 192\n",
      "Data columns (total 242 columns):\n",
      " #   Column   Dtype \n",
      "---  ------   ----- \n",
      " 0   country  object\n",
      " 1   1800     int64 \n",
      " 2   1801     int64 \n",
      " 3   1802     int64 \n",
      " 4   1803     int64 \n",
      " 5   1804     int64 \n",
      " 6   1805     int64 \n",
      " 7   1806     int64 \n",
      " 8   1807     int64 \n",
      " 9   1808     int64 \n",
      " 10  1809     int64 \n",
      " 11  1810     int64 \n",
      " 12  1811     int64 \n",
      " 13  1812     int64 \n",
      " 14  1813     int64 \n",
      " 15  1814     int64 \n",
      " 16  1815     int64 \n",
      " 17  1816     int64 \n",
      " 18  1817     int64 \n",
      " 19  1818     int64 \n",
      " 20  1819     int64 \n",
      " 21  1820     int64 \n",
      " 22  1821     int64 \n",
      " 23  1822     int64 \n",
      " 24  1823     int64 \n",
      " 25  1824     int64 \n",
      " 26  1825     int64 \n",
      " 27  1826     int64 \n",
      " 28  1827     int64 \n",
      " 29  1828     int64 \n",
      " 30  1829     int64 \n",
      " 31  1830     int64 \n",
      " 32  1831     int64 \n",
      " 33  1832     int64 \n",
      " 34  1833     int64 \n",
      " 35  1834     int64 \n",
      " 36  1835     int64 \n",
      " 37  1836     int64 \n",
      " 38  1837     int64 \n",
      " 39  1838     int64 \n",
      " 40  1839     int64 \n",
      " 41  1840     int64 \n",
      " 42  1841     int64 \n",
      " 43  1842     int64 \n",
      " 44  1843     int64 \n",
      " 45  1844     int64 \n",
      " 46  1845     int64 \n",
      " 47  1846     int64 \n",
      " 48  1847     int64 \n",
      " 49  1848     int64 \n",
      " 50  1849     int64 \n",
      " 51  1850     int64 \n",
      " 52  1851     int64 \n",
      " 53  1852     int64 \n",
      " 54  1853     int64 \n",
      " 55  1854     int64 \n",
      " 56  1855     int64 \n",
      " 57  1856     int64 \n",
      " 58  1857     int64 \n",
      " 59  1858     int64 \n",
      " 60  1859     int64 \n",
      " 61  1860     int64 \n",
      " 62  1861     int64 \n",
      " 63  1862     int64 \n",
      " 64  1863     int64 \n",
      " 65  1864     int64 \n",
      " 66  1865     int64 \n",
      " 67  1866     int64 \n",
      " 68  1867     int64 \n",
      " 69  1868     int64 \n",
      " 70  1869     int64 \n",
      " 71  1870     int64 \n",
      " 72  1871     int64 \n",
      " 73  1872     int64 \n",
      " 74  1873     int64 \n",
      " 75  1874     int64 \n",
      " 76  1875     int64 \n",
      " 77  1876     int64 \n",
      " 78  1877     int64 \n",
      " 79  1878     int64 \n",
      " 80  1879     int64 \n",
      " 81  1880     int64 \n",
      " 82  1881     int64 \n",
      " 83  1882     int64 \n",
      " 84  1883     int64 \n",
      " 85  1884     int64 \n",
      " 86  1885     int64 \n",
      " 87  1886     int64 \n",
      " 88  1887     int64 \n",
      " 89  1888     int64 \n",
      " 90  1889     int64 \n",
      " 91  1890     int64 \n",
      " 92  1891     int64 \n",
      " 93  1892     int64 \n",
      " 94  1893     int64 \n",
      " 95  1894     int64 \n",
      " 96  1895     int64 \n",
      " 97  1896     int64 \n",
      " 98  1897     int64 \n",
      " 99  1898     int64 \n",
      " 100 1899     int64 \n",
      " 101 1900     int64 \n",
      " 102 1901     int64 \n",
      " 103 1902     int64 \n",
      " 104 1903     int64 \n",
      " 105 1904     int64 \n",
      " 106 1905     int64 \n",
      " 107 1906     int64 \n",
      " 108 1907     int64 \n",
      " 109 1908     int64 \n",
      " 110 1909     int64 \n",
      " 111 1910     int64 \n",
      " 112 1911     int64 \n",
      " 113 1912     int64 \n",
      " 114 1913     int64 \n",
      " 115 1914     int64 \n",
      " 116 1915     int64 \n",
      " 117 1916     int64 \n",
      " 118 1917     int64 \n",
      " 119 1918     int64 \n",
      " 120 1919     int64 \n",
      " 121 1920     int64 \n",
      " 122 1921     int64 \n",
      " 123 1922     int64 \n",
      " 124 1923     int64 \n",
      " 125 1924     int64 \n",
      " 126 1925     int64 \n",
      " 127 1926     int64 \n",
      " 128 1927     int64 \n",
      " 129 1928     int64 \n",
      " 130 1929     int64 \n",
      " 131 1930     int64 \n",
      " 132 1931     int64 \n",
      " 133 1932     int64 \n",
      " 134 1933     int64 \n",
      " 135 1934     int64 \n",
      " 136 1935     int64 \n",
      " 137 1936     int64 \n",
      " 138 1937     int64 \n",
      " 139 1938     int64 \n",
      " 140 1939     int64 \n",
      " 141 1940     int64 \n",
      " 142 1941     int64 \n",
      " 143 1942     int64 \n",
      " 144 1943     int64 \n",
      " 145 1944     int64 \n",
      " 146 1945     int64 \n",
      " 147 1946     int64 \n",
      " 148 1947     int64 \n",
      " 149 1948     int64 \n",
      " 150 1949     int64 \n",
      " 151 1950     int64 \n",
      " 152 1951     int64 \n",
      " 153 1952     int64 \n",
      " 154 1953     int64 \n",
      " 155 1954     int64 \n",
      " 156 1955     int64 \n",
      " 157 1956     int64 \n",
      " 158 1957     int64 \n",
      " 159 1958     int64 \n",
      " 160 1959     int64 \n",
      " 161 1960     int64 \n",
      " 162 1961     int64 \n",
      " 163 1962     int64 \n",
      " 164 1963     int64 \n",
      " 165 1964     int64 \n",
      " 166 1965     int64 \n",
      " 167 1966     int64 \n",
      " 168 1967     int64 \n",
      " 169 1968     int64 \n",
      " 170 1969     int64 \n",
      " 171 1970     int64 \n",
      " 172 1971     int64 \n",
      " 173 1972     int64 \n",
      " 174 1973     int64 \n",
      " 175 1974     int64 \n",
      " 176 1975     int64 \n",
      " 177 1976     int64 \n",
      " 178 1977     int64 \n",
      " 179 1978     int64 \n",
      " 180 1979     int64 \n",
      " 181 1980     int64 \n",
      " 182 1981     int64 \n",
      " 183 1982     int64 \n",
      " 184 1983     int64 \n",
      " 185 1984     int64 \n",
      " 186 1985     int64 \n",
      " 187 1986     int64 \n",
      " 188 1987     int64 \n",
      " 189 1988     int64 \n",
      " 190 1989     int64 \n",
      " 191 1990     int64 \n",
      " 192 1991     int64 \n",
      " 193 1992     int64 \n",
      " 194 1993     int64 \n",
      " 195 1994     int64 \n",
      " 196 1995     int64 \n",
      " 197 1996     int64 \n",
      " 198 1997     int64 \n",
      " 199 1998     int64 \n",
      " 200 1999     int64 \n",
      " 201 2000     int64 \n",
      " 202 2001     int64 \n",
      " 203 2002     int64 \n",
      " 204 2003     int64 \n",
      " 205 2004     int64 \n",
      " 206 2005     int64 \n",
      " 207 2006     int64 \n",
      " 208 2007     int64 \n",
      " 209 2008     int64 \n",
      " 210 2009     int64 \n",
      " 211 2010     int64 \n",
      " 212 2011     int64 \n",
      " 213 2012     int64 \n",
      " 214 2013     int64 \n",
      " 215 2014     int64 \n",
      " 216 2015     int64 \n",
      " 217 2016     int64 \n",
      " 218 2017     int64 \n",
      " 219 2018     int64 \n",
      " 220 2019     int64 \n",
      " 221 2020     int64 \n",
      " 222 2021     int64 \n",
      " 223 2022     int64 \n",
      " 224 2023     int64 \n",
      " 225 2024     int64 \n",
      " 226 2025     int64 \n",
      " 227 2026     int64 \n",
      " 228 2027     int64 \n",
      " 229 2028     int64 \n",
      " 230 2029     int64 \n",
      " 231 2030     int64 \n",
      " 232 2031     int64 \n",
      " 233 2032     int64 \n",
      " 234 2033     int64 \n",
      " 235 2034     int64 \n",
      " 236 2035     int64 \n",
      " 237 2036     int64 \n",
      " 238 2037     int64 \n",
      " 239 2038     int64 \n",
      " 240 2039     int64 \n",
      " 241 2040     int64 \n",
      "dtypes: int64(241), object(1)\n",
      "memory usage: 365.0+ KB\n"
     ]
    },
    {
     "data": {
      "text/plain": [
       "(None,\n",
       " country    0\n",
       " 1800       0\n",
       " 1801       0\n",
       " 1802       0\n",
       " 1803       0\n",
       "           ..\n",
       " 2036       0\n",
       " 2037       0\n",
       " 2038       0\n",
       " 2039       0\n",
       " 2040       0\n",
       " Length: 242, dtype: int64)"
      ]
     },
     "execution_count": 10,
     "metadata": {},
     "output_type": "execute_result"
    }
   ],
   "source": [
    "income.info(10), income.isnull().sum()\n",
    "#income.info() returned a list with no values, adding the 10 appears to have fixed it. "
   ]
  },
  {
   "cell_type": "code",
   "execution_count": 11,
   "metadata": {},
   "outputs": [
    {
     "data": {
      "text/html": [
       "<div>\n",
       "<style scoped>\n",
       "    .dataframe tbody tr th:only-of-type {\n",
       "        vertical-align: middle;\n",
       "    }\n",
       "\n",
       "    .dataframe tbody tr th {\n",
       "        vertical-align: top;\n",
       "    }\n",
       "\n",
       "    .dataframe thead th {\n",
       "        text-align: right;\n",
       "    }\n",
       "</style>\n",
       "<table border=\"1\" class=\"dataframe\">\n",
       "  <thead>\n",
       "    <tr style=\"text-align: right;\">\n",
       "      <th></th>\n",
       "      <th>country</th>\n",
       "      <th>1800</th>\n",
       "      <th>1801</th>\n",
       "      <th>1802</th>\n",
       "      <th>1803</th>\n",
       "      <th>1804</th>\n",
       "      <th>1805</th>\n",
       "      <th>1806</th>\n",
       "      <th>1807</th>\n",
       "      <th>1808</th>\n",
       "      <th>...</th>\n",
       "      <th>2031</th>\n",
       "      <th>2032</th>\n",
       "      <th>2033</th>\n",
       "      <th>2034</th>\n",
       "      <th>2035</th>\n",
       "      <th>2036</th>\n",
       "      <th>2037</th>\n",
       "      <th>2038</th>\n",
       "      <th>2039</th>\n",
       "      <th>2040</th>\n",
       "    </tr>\n",
       "  </thead>\n",
       "  <tbody>\n",
       "    <tr>\n",
       "      <th>182</th>\n",
       "      <td>United Arab Emirates</td>\n",
       "      <td>998</td>\n",
       "      <td>1000</td>\n",
       "      <td>1010</td>\n",
       "      <td>1010</td>\n",
       "      <td>1010</td>\n",
       "      <td>1020</td>\n",
       "      <td>1020</td>\n",
       "      <td>1020</td>\n",
       "      <td>1030</td>\n",
       "      <td>...</td>\n",
       "      <td>66800</td>\n",
       "      <td>68100</td>\n",
       "      <td>69400</td>\n",
       "      <td>70800</td>\n",
       "      <td>72200</td>\n",
       "      <td>73700</td>\n",
       "      <td>75200</td>\n",
       "      <td>76700</td>\n",
       "      <td>78300</td>\n",
       "      <td>79900</td>\n",
       "    </tr>\n",
       "  </tbody>\n",
       "</table>\n",
       "<p>1 rows × 242 columns</p>\n",
       "</div>"
      ],
      "text/plain": [
       "                  country  1800  1801  1802  1803  1804  1805  1806  1807  \\\n",
       "182  United Arab Emirates   998  1000  1010  1010  1010  1020  1020  1020   \n",
       "\n",
       "     1808  ...   2031   2032   2033   2034   2035   2036   2037   2038   2039  \\\n",
       "182  1030  ...  66800  68100  69400  70800  72200  73700  75200  76700  78300   \n",
       "\n",
       "      2040  \n",
       "182  79900  \n",
       "\n",
       "[1 rows x 242 columns]"
      ]
     },
     "execution_count": 11,
     "metadata": {},
     "output_type": "execute_result"
    }
   ],
   "source": [
    "income.iloc[182:183]"
   ]
  },
  {
   "cell_type": "code",
   "execution_count": 12,
   "metadata": {},
   "outputs": [
    {
     "data": {
      "text/plain": [
       "False"
      ]
     },
     "execution_count": 12,
     "metadata": {},
     "output_type": "execute_result"
    }
   ],
   "source": [
    "no_null(income)"
   ]
  },
  {
   "cell_type": "code",
   "execution_count": 22,
   "metadata": {},
   "outputs": [],
   "source": [
    "tmp_inc = income.iloc[182:183]"
   ]
  },
  {
   "cell_type": "markdown",
   "metadata": {},
   "source": [
    "UAE income data also appears to have no null values, though it does have a lot of extra years that will need to be dropped.The income data type is also different from the other UAE data, which are floats. We may need to change this data type to float as well for consistency."
   ]
  },
  {
   "cell_type": "code",
   "execution_count": 13,
   "metadata": {},
   "outputs": [
    {
     "name": "stdout",
     "output_type": "stream",
     "text": [
      "<class 'pandas.core.frame.DataFrame'>\n",
      "RangeIndex: 187 entries, 0 to 186\n",
      "Data columns (total 302 columns):\n",
      " #   Column   Dtype  \n",
      "---  ------   -----  \n",
      " 0   country  object \n",
      " 1   1800     float64\n",
      " 2   1801     float64\n",
      " 3   1802     float64\n",
      " 4   1803     float64\n",
      " 5   1804     float64\n",
      " 6   1805     float64\n",
      " 7   1806     float64\n",
      " 8   1807     float64\n",
      " 9   1808     float64\n",
      " 10  1809     float64\n",
      " 11  1810     float64\n",
      " 12  1811     float64\n",
      " 13  1812     float64\n",
      " 14  1813     float64\n",
      " 15  1814     float64\n",
      " 16  1815     float64\n",
      " 17  1816     float64\n",
      " 18  1817     float64\n",
      " 19  1818     float64\n",
      " 20  1819     float64\n",
      " 21  1820     float64\n",
      " 22  1821     float64\n",
      " 23  1822     float64\n",
      " 24  1823     float64\n",
      " 25  1824     float64\n",
      " 26  1825     float64\n",
      " 27  1826     float64\n",
      " 28  1827     float64\n",
      " 29  1828     float64\n",
      " 30  1829     float64\n",
      " 31  1830     float64\n",
      " 32  1831     float64\n",
      " 33  1832     float64\n",
      " 34  1833     float64\n",
      " 35  1834     float64\n",
      " 36  1835     float64\n",
      " 37  1836     float64\n",
      " 38  1837     float64\n",
      " 39  1838     float64\n",
      " 40  1839     float64\n",
      " 41  1840     float64\n",
      " 42  1841     float64\n",
      " 43  1842     float64\n",
      " 44  1843     float64\n",
      " 45  1844     float64\n",
      " 46  1845     float64\n",
      " 47  1846     float64\n",
      " 48  1847     float64\n",
      " 49  1848     float64\n",
      " 50  1849     float64\n",
      " 51  1850     float64\n",
      " 52  1851     float64\n",
      " 53  1852     float64\n",
      " 54  1853     float64\n",
      " 55  1854     float64\n",
      " 56  1855     float64\n",
      " 57  1856     float64\n",
      " 58  1857     float64\n",
      " 59  1858     float64\n",
      " 60  1859     float64\n",
      " 61  1860     float64\n",
      " 62  1861     float64\n",
      " 63  1862     float64\n",
      " 64  1863     float64\n",
      " 65  1864     float64\n",
      " 66  1865     float64\n",
      " 67  1866     float64\n",
      " 68  1867     float64\n",
      " 69  1868     float64\n",
      " 70  1869     float64\n",
      " 71  1870     float64\n",
      " 72  1871     float64\n",
      " 73  1872     float64\n",
      " 74  1873     float64\n",
      " 75  1874     float64\n",
      " 76  1875     float64\n",
      " 77  1876     float64\n",
      " 78  1877     float64\n",
      " 79  1878     float64\n",
      " 80  1879     float64\n",
      " 81  1880     float64\n",
      " 82  1881     float64\n",
      " 83  1882     float64\n",
      " 84  1883     float64\n",
      " 85  1884     float64\n",
      " 86  1885     float64\n",
      " 87  1886     float64\n",
      " 88  1887     float64\n",
      " 89  1888     float64\n",
      " 90  1889     float64\n",
      " 91  1890     float64\n",
      " 92  1891     float64\n",
      " 93  1892     float64\n",
      " 94  1893     float64\n",
      " 95  1894     float64\n",
      " 96  1895     float64\n",
      " 97  1896     float64\n",
      " 98  1897     float64\n",
      " 99  1898     float64\n",
      " 100 1899     float64\n",
      " 101 1900     float64\n",
      " 102 1901     float64\n",
      " 103 1902     float64\n",
      " 104 1903     float64\n",
      " 105 1904     float64\n",
      " 106 1905     float64\n",
      " 107 1906     float64\n",
      " 108 1907     float64\n",
      " 109 1908     float64\n",
      " 110 1909     float64\n",
      " 111 1910     float64\n",
      " 112 1911     float64\n",
      " 113 1912     float64\n",
      " 114 1913     float64\n",
      " 115 1914     float64\n",
      " 116 1915     float64\n",
      " 117 1916     float64\n",
      " 118 1917     float64\n",
      " 119 1918     float64\n",
      " 120 1919     float64\n",
      " 121 1920     float64\n",
      " 122 1921     float64\n",
      " 123 1922     float64\n",
      " 124 1923     float64\n",
      " 125 1924     float64\n",
      " 126 1925     float64\n",
      " 127 1926     float64\n",
      " 128 1927     float64\n",
      " 129 1928     float64\n",
      " 130 1929     float64\n",
      " 131 1930     float64\n",
      " 132 1931     float64\n",
      " 133 1932     float64\n",
      " 134 1933     float64\n",
      " 135 1934     float64\n",
      " 136 1935     float64\n",
      " 137 1936     float64\n",
      " 138 1937     float64\n",
      " 139 1938     float64\n",
      " 140 1939     float64\n",
      " 141 1940     float64\n",
      " 142 1941     float64\n",
      " 143 1942     float64\n",
      " 144 1943     float64\n",
      " 145 1944     float64\n",
      " 146 1945     float64\n",
      " 147 1946     float64\n",
      " 148 1947     float64\n",
      " 149 1948     float64\n",
      " 150 1949     float64\n",
      " 151 1950     float64\n",
      " 152 1951     float64\n",
      " 153 1952     float64\n",
      " 154 1953     float64\n",
      " 155 1954     float64\n",
      " 156 1955     float64\n",
      " 157 1956     float64\n",
      " 158 1957     float64\n",
      " 159 1958     float64\n",
      " 160 1959     float64\n",
      " 161 1960     float64\n",
      " 162 1961     float64\n",
      " 163 1962     float64\n",
      " 164 1963     float64\n",
      " 165 1964     float64\n",
      " 166 1965     float64\n",
      " 167 1966     float64\n",
      " 168 1967     float64\n",
      " 169 1968     float64\n",
      " 170 1969     float64\n",
      " 171 1970     float64\n",
      " 172 1971     float64\n",
      " 173 1972     float64\n",
      " 174 1973     float64\n",
      " 175 1974     float64\n",
      " 176 1975     float64\n",
      " 177 1976     float64\n",
      " 178 1977     float64\n",
      " 179 1978     float64\n",
      " 180 1979     float64\n",
      " 181 1980     float64\n",
      " 182 1981     float64\n",
      " 183 1982     float64\n",
      " 184 1983     float64\n",
      " 185 1984     float64\n",
      " 186 1985     float64\n",
      " 187 1986     float64\n",
      " 188 1987     float64\n",
      " 189 1988     float64\n",
      " 190 1989     float64\n",
      " 191 1990     float64\n",
      " 192 1991     float64\n",
      " 193 1992     float64\n",
      " 194 1993     float64\n",
      " 195 1994     float64\n",
      " 196 1995     float64\n",
      " 197 1996     float64\n",
      " 198 1997     float64\n",
      " 199 1998     float64\n",
      " 200 1999     float64\n",
      " 201 2000     float64\n",
      " 202 2001     float64\n",
      " 203 2002     float64\n",
      " 204 2003     float64\n",
      " 205 2004     float64\n",
      " 206 2005     float64\n",
      " 207 2006     float64\n",
      " 208 2007     float64\n",
      " 209 2008     float64\n",
      " 210 2009     float64\n",
      " 211 2010     float64\n",
      " 212 2011     float64\n",
      " 213 2012     float64\n",
      " 214 2013     float64\n",
      " 215 2014     float64\n",
      " 216 2015     float64\n",
      " 217 2016     float64\n",
      " 218 2017     float64\n",
      " 219 2018     float64\n",
      " 220 2019     float64\n",
      " 221 2020     float64\n",
      " 222 2021     float64\n",
      " 223 2022     float64\n",
      " 224 2023     float64\n",
      " 225 2024     float64\n",
      " 226 2025     float64\n",
      " 227 2026     float64\n",
      " 228 2027     float64\n",
      " 229 2028     float64\n",
      " 230 2029     float64\n",
      " 231 2030     float64\n",
      " 232 2031     float64\n",
      " 233 2032     float64\n",
      " 234 2033     float64\n",
      " 235 2034     float64\n",
      " 236 2035     float64\n",
      " 237 2036     float64\n",
      " 238 2037     float64\n",
      " 239 2038     float64\n",
      " 240 2039     float64\n",
      " 241 2040     float64\n",
      " 242 2041     float64\n",
      " 243 2042     float64\n",
      " 244 2043     float64\n",
      " 245 2044     float64\n",
      " 246 2045     float64\n",
      " 247 2046     float64\n",
      " 248 2047     float64\n",
      " 249 2048     float64\n",
      " 250 2049     float64\n",
      " 251 2050     float64\n",
      " 252 2051     float64\n",
      " 253 2052     float64\n",
      " 254 2053     float64\n",
      " 255 2054     float64\n",
      " 256 2055     float64\n",
      " 257 2056     float64\n",
      " 258 2057     float64\n",
      " 259 2058     float64\n",
      " 260 2059     float64\n",
      " 261 2060     float64\n",
      " 262 2061     float64\n",
      " 263 2062     float64\n",
      " 264 2063     float64\n",
      " 265 2064     float64\n",
      " 266 2065     float64\n",
      " 267 2066     float64\n",
      " 268 2067     float64\n",
      " 269 2068     float64\n",
      " 270 2069     float64\n",
      " 271 2070     float64\n",
      " 272 2071     float64\n",
      " 273 2072     float64\n",
      " 274 2073     float64\n",
      " 275 2074     float64\n",
      " 276 2075     float64\n",
      " 277 2076     float64\n",
      " 278 2077     float64\n",
      " 279 2078     float64\n",
      " 280 2079     float64\n",
      " 281 2080     float64\n",
      " 282 2081     float64\n",
      " 283 2082     float64\n",
      " 284 2083     float64\n",
      " 285 2084     float64\n",
      " 286 2085     float64\n",
      " 287 2086     float64\n",
      " 288 2087     float64\n",
      " 289 2088     float64\n",
      " 290 2089     float64\n",
      " 291 2090     float64\n",
      " 292 2091     float64\n",
      " 293 2092     float64\n",
      " 294 2093     float64\n",
      " 295 2094     float64\n",
      " 296 2095     float64\n",
      " 297 2096     float64\n",
      " 298 2097     float64\n",
      " 299 2098     float64\n",
      " 300 2099     float64\n",
      " 301 2100     float64\n",
      "dtypes: float64(301), object(1)\n",
      "memory usage: 441.3+ KB\n"
     ]
    },
    {
     "data": {
      "text/plain": [
       "(None,\n",
       " country    0\n",
       " 1800       3\n",
       " 1801       3\n",
       " 1802       3\n",
       " 1803       3\n",
       "           ..\n",
       " 2096       3\n",
       " 2097       3\n",
       " 2098       3\n",
       " 2099       3\n",
       " 2100       3\n",
       " Length: 302, dtype: int64)"
      ]
     },
     "execution_count": 13,
     "metadata": {},
     "output_type": "execute_result"
    }
   ],
   "source": [
    "life.info(10), life.isnull().sum()"
   ]
  },
  {
   "cell_type": "code",
   "execution_count": 14,
   "metadata": {},
   "outputs": [
    {
     "data": {
      "text/html": [
       "<div>\n",
       "<style scoped>\n",
       "    .dataframe tbody tr th:only-of-type {\n",
       "        vertical-align: middle;\n",
       "    }\n",
       "\n",
       "    .dataframe tbody tr th {\n",
       "        vertical-align: top;\n",
       "    }\n",
       "\n",
       "    .dataframe thead th {\n",
       "        text-align: right;\n",
       "    }\n",
       "</style>\n",
       "<table border=\"1\" class=\"dataframe\">\n",
       "  <thead>\n",
       "    <tr style=\"text-align: right;\">\n",
       "      <th></th>\n",
       "      <th>country</th>\n",
       "      <th>1800</th>\n",
       "      <th>1801</th>\n",
       "      <th>1802</th>\n",
       "      <th>1803</th>\n",
       "      <th>1804</th>\n",
       "      <th>1805</th>\n",
       "      <th>1806</th>\n",
       "      <th>1807</th>\n",
       "      <th>1808</th>\n",
       "      <th>...</th>\n",
       "      <th>2091</th>\n",
       "      <th>2092</th>\n",
       "      <th>2093</th>\n",
       "      <th>2094</th>\n",
       "      <th>2095</th>\n",
       "      <th>2096</th>\n",
       "      <th>2097</th>\n",
       "      <th>2098</th>\n",
       "      <th>2099</th>\n",
       "      <th>2100</th>\n",
       "    </tr>\n",
       "  </thead>\n",
       "  <tbody>\n",
       "    <tr>\n",
       "      <th>176</th>\n",
       "      <td>United Arab Emirates</td>\n",
       "      <td>30.7</td>\n",
       "      <td>30.7</td>\n",
       "      <td>30.7</td>\n",
       "      <td>30.7</td>\n",
       "      <td>30.7</td>\n",
       "      <td>30.7</td>\n",
       "      <td>30.7</td>\n",
       "      <td>30.7</td>\n",
       "      <td>30.7</td>\n",
       "      <td>...</td>\n",
       "      <td>82.1</td>\n",
       "      <td>82.2</td>\n",
       "      <td>82.3</td>\n",
       "      <td>82.4</td>\n",
       "      <td>82.5</td>\n",
       "      <td>82.6</td>\n",
       "      <td>82.7</td>\n",
       "      <td>82.8</td>\n",
       "      <td>82.9</td>\n",
       "      <td>83.0</td>\n",
       "    </tr>\n",
       "  </tbody>\n",
       "</table>\n",
       "<p>1 rows × 302 columns</p>\n",
       "</div>"
      ],
      "text/plain": [
       "                  country  1800  1801  1802  1803  1804  1805  1806  1807  \\\n",
       "176  United Arab Emirates  30.7  30.7  30.7  30.7  30.7  30.7  30.7  30.7   \n",
       "\n",
       "     1808  ...  2091  2092  2093  2094  2095  2096  2097  2098  2099  2100  \n",
       "176  30.7  ...  82.1  82.2  82.3  82.4  82.5  82.6  82.7  82.8  82.9  83.0  \n",
       "\n",
       "[1 rows x 302 columns]"
      ]
     },
     "execution_count": 14,
     "metadata": {},
     "output_type": "execute_result"
    }
   ],
   "source": [
    "life.iloc[176:177]"
   ]
  },
  {
   "cell_type": "code",
   "execution_count": 15,
   "metadata": {},
   "outputs": [
    {
     "data": {
      "text/plain": [
       "False"
      ]
     },
     "execution_count": 15,
     "metadata": {},
     "output_type": "execute_result"
    }
   ],
   "source": [
    "no_null(life)"
   ]
  },
  {
   "cell_type": "code",
   "execution_count": 23,
   "metadata": {},
   "outputs": [],
   "source": [
    "tmp_life = life.iloc[176:177]"
   ]
  },
  {
   "cell_type": "markdown",
   "metadata": {},
   "source": [
    "UAE life expectancy data also appears to contain no null values and will need to have its range of years adjusted"
   ]
  },
  {
   "cell_type": "markdown",
   "metadata": {},
   "source": [
    "Since none of the UAE data is missing or errant, the cleaning process will require dropping years preceding 1965 and following 2016. This is likely a better option that appending these four datasets into a single dataframe and then filling non-overlapping values with null values. This should make the data easier to use inside Jupyter, or if it needs to be exported. If necessary, the income data will converted to a float for consistency. I will also append the four datasets together and restructure the dataframe so that it is easier to use. \n"
   ]
  },
  {
   "cell_type": "markdown",
   "metadata": {},
   "source": [
    "## Data Cleaning\n",
    "\n",
    "Each csv is set up so that the column names include country and each year where data is present. \n",
    "This seems like a poor way to organize the data, especially once I merge all four datasets. \n",
    "In order to do fix this easily, I looked up how to stack the years into a single column, and ended up using .melt to do so. \n",
    "\n",
    "Once I have four new dataframes with stacked years, I will merge them so that the final dataframe only includes\n",
    "all the data for the years that exist across all four original datasets. Since the oil data has the years I want, the merge should only include only the income, life expectancy, and population data for the years 1965-2016. "
   ]
  },
  {
   "cell_type": "code",
   "execution_count": 25,
   "metadata": {},
   "outputs": [
    {
     "data": {
      "text/html": [
       "<div>\n",
       "<style scoped>\n",
       "    .dataframe tbody tr th:only-of-type {\n",
       "        vertical-align: middle;\n",
       "    }\n",
       "\n",
       "    .dataframe tbody tr th {\n",
       "        vertical-align: top;\n",
       "    }\n",
       "\n",
       "    .dataframe thead th {\n",
       "        text-align: right;\n",
       "    }\n",
       "</style>\n",
       "<table border=\"1\" class=\"dataframe\">\n",
       "  <thead>\n",
       "    <tr style=\"text-align: right;\">\n",
       "      <th></th>\n",
       "      <th>country</th>\n",
       "      <th>Year</th>\n",
       "      <th>oil_output_person</th>\n",
       "    </tr>\n",
       "  </thead>\n",
       "  <tbody>\n",
       "    <tr>\n",
       "      <th>0</th>\n",
       "      <td>United Arab Emirates</td>\n",
       "      <td>1965</td>\n",
       "      <td>90.8</td>\n",
       "    </tr>\n",
       "    <tr>\n",
       "      <th>1</th>\n",
       "      <td>United Arab Emirates</td>\n",
       "      <td>1966</td>\n",
       "      <td>109.0</td>\n",
       "    </tr>\n",
       "    <tr>\n",
       "      <th>2</th>\n",
       "      <td>United Arab Emirates</td>\n",
       "      <td>1967</td>\n",
       "      <td>109.0</td>\n",
       "    </tr>\n",
       "    <tr>\n",
       "      <th>3</th>\n",
       "      <td>United Arab Emirates</td>\n",
       "      <td>1968</td>\n",
       "      <td>132.0</td>\n",
       "    </tr>\n",
       "    <tr>\n",
       "      <th>4</th>\n",
       "      <td>United Arab Emirates</td>\n",
       "      <td>1969</td>\n",
       "      <td>142.0</td>\n",
       "    </tr>\n",
       "  </tbody>\n",
       "</table>\n",
       "</div>"
      ],
      "text/plain": [
       "                country  Year  oil_output_person\n",
       "0  United Arab Emirates  1965               90.8\n",
       "1  United Arab Emirates  1966              109.0\n",
       "2  United Arab Emirates  1967              109.0\n",
       "3  United Arab Emirates  1968              132.0\n",
       "4  United Arab Emirates  1969              142.0"
      ]
     },
     "execution_count": 25,
     "metadata": {},
     "output_type": "execute_result"
    }
   ],
   "source": [
    "uae_oil = tmp_oil.melt(id_vars=[\"country\"], \n",
    "        var_name=\"Year\", \n",
    "        value_name=\"oil_output_person\")\n",
    "uae_oil.head()\n"
   ]
  },
  {
   "cell_type": "code",
   "execution_count": 26,
   "metadata": {},
   "outputs": [
    {
     "data": {
      "text/html": [
       "<div>\n",
       "<style scoped>\n",
       "    .dataframe tbody tr th:only-of-type {\n",
       "        vertical-align: middle;\n",
       "    }\n",
       "\n",
       "    .dataframe tbody tr th {\n",
       "        vertical-align: top;\n",
       "    }\n",
       "\n",
       "    .dataframe thead th {\n",
       "        text-align: right;\n",
       "    }\n",
       "</style>\n",
       "<table border=\"1\" class=\"dataframe\">\n",
       "  <thead>\n",
       "    <tr style=\"text-align: right;\">\n",
       "      <th></th>\n",
       "      <th>country</th>\n",
       "      <th>Year</th>\n",
       "      <th>pop_growth_percent</th>\n",
       "    </tr>\n",
       "  </thead>\n",
       "  <tbody>\n",
       "    <tr>\n",
       "      <th>0</th>\n",
       "      <td>United Arab Emirates</td>\n",
       "      <td>1960</td>\n",
       "      <td>0.0582</td>\n",
       "    </tr>\n",
       "    <tr>\n",
       "      <th>1</th>\n",
       "      <td>United Arab Emirates</td>\n",
       "      <td>1961</td>\n",
       "      <td>0.0868</td>\n",
       "    </tr>\n",
       "    <tr>\n",
       "      <th>2</th>\n",
       "      <td>United Arab Emirates</td>\n",
       "      <td>1962</td>\n",
       "      <td>0.1060</td>\n",
       "    </tr>\n",
       "    <tr>\n",
       "      <th>3</th>\n",
       "      <td>United Arab Emirates</td>\n",
       "      <td>1963</td>\n",
       "      <td>0.1100</td>\n",
       "    </tr>\n",
       "    <tr>\n",
       "      <th>4</th>\n",
       "      <td>United Arab Emirates</td>\n",
       "      <td>1964</td>\n",
       "      <td>0.0982</td>\n",
       "    </tr>\n",
       "  </tbody>\n",
       "</table>\n",
       "</div>"
      ],
      "text/plain": [
       "                country  Year  pop_growth_percent\n",
       "0  United Arab Emirates  1960              0.0582\n",
       "1  United Arab Emirates  1961              0.0868\n",
       "2  United Arab Emirates  1962              0.1060\n",
       "3  United Arab Emirates  1963              0.1100\n",
       "4  United Arab Emirates  1964              0.0982"
      ]
     },
     "execution_count": 26,
     "metadata": {},
     "output_type": "execute_result"
    }
   ],
   "source": [
    "uae_pop = tmp_pop.melt(id_vars=[\"country\"], \n",
    "        var_name=\"Year\", \n",
    "        value_name=\"pop_growth_percent\")\n",
    "uae_pop.head()"
   ]
  },
  {
   "cell_type": "markdown",
   "metadata": {},
   "source": [
    "Since the population growth data is represented in decimals, they need to be converted to make more sense when graphed. I multiplied by 100 to get proper percentages and then replaced the original data in the uae_pop dataframe."
   ]
  },
  {
   "cell_type": "code",
   "execution_count": 27,
   "metadata": {},
   "outputs": [
    {
     "data": {
      "text/plain": [
       "0     5.82\n",
       "1     8.68\n",
       "2    10.60\n",
       "3    11.00\n",
       "4     9.82\n",
       "Name: pop_growth_percent, dtype: float64"
      ]
     },
     "execution_count": 27,
     "metadata": {},
     "output_type": "execute_result"
    }
   ],
   "source": [
    "df_corrected_percent = uae_pop.pop_growth_percent*100\n",
    "df_corrected_percent.head()"
   ]
  },
  {
   "cell_type": "code",
   "execution_count": 28,
   "metadata": {},
   "outputs": [
    {
     "data": {
      "text/html": [
       "<div>\n",
       "<style scoped>\n",
       "    .dataframe tbody tr th:only-of-type {\n",
       "        vertical-align: middle;\n",
       "    }\n",
       "\n",
       "    .dataframe tbody tr th {\n",
       "        vertical-align: top;\n",
       "    }\n",
       "\n",
       "    .dataframe thead th {\n",
       "        text-align: right;\n",
       "    }\n",
       "</style>\n",
       "<table border=\"1\" class=\"dataframe\">\n",
       "  <thead>\n",
       "    <tr style=\"text-align: right;\">\n",
       "      <th></th>\n",
       "      <th>country</th>\n",
       "      <th>Year</th>\n",
       "      <th>pop_growth_percent</th>\n",
       "    </tr>\n",
       "  </thead>\n",
       "  <tbody>\n",
       "    <tr>\n",
       "      <th>0</th>\n",
       "      <td>United Arab Emirates</td>\n",
       "      <td>1960</td>\n",
       "      <td>5.82</td>\n",
       "    </tr>\n",
       "    <tr>\n",
       "      <th>1</th>\n",
       "      <td>United Arab Emirates</td>\n",
       "      <td>1961</td>\n",
       "      <td>8.68</td>\n",
       "    </tr>\n",
       "    <tr>\n",
       "      <th>2</th>\n",
       "      <td>United Arab Emirates</td>\n",
       "      <td>1962</td>\n",
       "      <td>10.60</td>\n",
       "    </tr>\n",
       "    <tr>\n",
       "      <th>3</th>\n",
       "      <td>United Arab Emirates</td>\n",
       "      <td>1963</td>\n",
       "      <td>11.00</td>\n",
       "    </tr>\n",
       "    <tr>\n",
       "      <th>4</th>\n",
       "      <td>United Arab Emirates</td>\n",
       "      <td>1964</td>\n",
       "      <td>9.82</td>\n",
       "    </tr>\n",
       "  </tbody>\n",
       "</table>\n",
       "</div>"
      ],
      "text/plain": [
       "                country  Year  pop_growth_percent\n",
       "0  United Arab Emirates  1960                5.82\n",
       "1  United Arab Emirates  1961                8.68\n",
       "2  United Arab Emirates  1962               10.60\n",
       "3  United Arab Emirates  1963               11.00\n",
       "4  United Arab Emirates  1964                9.82"
      ]
     },
     "execution_count": 28,
     "metadata": {},
     "output_type": "execute_result"
    }
   ],
   "source": [
    "uae_pop.pop_growth_percent = df_corrected_percent\n",
    "uae_pop.head()"
   ]
  },
  {
   "cell_type": "code",
   "execution_count": 29,
   "metadata": {},
   "outputs": [
    {
     "data": {
      "text/html": [
       "<div>\n",
       "<style scoped>\n",
       "    .dataframe tbody tr th:only-of-type {\n",
       "        vertical-align: middle;\n",
       "    }\n",
       "\n",
       "    .dataframe tbody tr th {\n",
       "        vertical-align: top;\n",
       "    }\n",
       "\n",
       "    .dataframe thead th {\n",
       "        text-align: right;\n",
       "    }\n",
       "</style>\n",
       "<table border=\"1\" class=\"dataframe\">\n",
       "  <thead>\n",
       "    <tr style=\"text-align: right;\">\n",
       "      <th></th>\n",
       "      <th>country</th>\n",
       "      <th>Year</th>\n",
       "      <th>life_expect</th>\n",
       "    </tr>\n",
       "  </thead>\n",
       "  <tbody>\n",
       "    <tr>\n",
       "      <th>0</th>\n",
       "      <td>United Arab Emirates</td>\n",
       "      <td>1800</td>\n",
       "      <td>30.7</td>\n",
       "    </tr>\n",
       "    <tr>\n",
       "      <th>1</th>\n",
       "      <td>United Arab Emirates</td>\n",
       "      <td>1801</td>\n",
       "      <td>30.7</td>\n",
       "    </tr>\n",
       "    <tr>\n",
       "      <th>2</th>\n",
       "      <td>United Arab Emirates</td>\n",
       "      <td>1802</td>\n",
       "      <td>30.7</td>\n",
       "    </tr>\n",
       "    <tr>\n",
       "      <th>3</th>\n",
       "      <td>United Arab Emirates</td>\n",
       "      <td>1803</td>\n",
       "      <td>30.7</td>\n",
       "    </tr>\n",
       "    <tr>\n",
       "      <th>4</th>\n",
       "      <td>United Arab Emirates</td>\n",
       "      <td>1804</td>\n",
       "      <td>30.7</td>\n",
       "    </tr>\n",
       "  </tbody>\n",
       "</table>\n",
       "</div>"
      ],
      "text/plain": [
       "                country  Year  life_expect\n",
       "0  United Arab Emirates  1800         30.7\n",
       "1  United Arab Emirates  1801         30.7\n",
       "2  United Arab Emirates  1802         30.7\n",
       "3  United Arab Emirates  1803         30.7\n",
       "4  United Arab Emirates  1804         30.7"
      ]
     },
     "execution_count": 29,
     "metadata": {},
     "output_type": "execute_result"
    }
   ],
   "source": [
    "uae_life = tmp_life.melt(id_vars=[\"country\"], \n",
    "        var_name=\"Year\", \n",
    "        value_name=\"life_expect\")\n",
    "uae_life.head()"
   ]
  },
  {
   "cell_type": "code",
   "execution_count": 30,
   "metadata": {},
   "outputs": [
    {
     "data": {
      "text/html": [
       "<div>\n",
       "<style scoped>\n",
       "    .dataframe tbody tr th:only-of-type {\n",
       "        vertical-align: middle;\n",
       "    }\n",
       "\n",
       "    .dataframe tbody tr th {\n",
       "        vertical-align: top;\n",
       "    }\n",
       "\n",
       "    .dataframe thead th {\n",
       "        text-align: right;\n",
       "    }\n",
       "</style>\n",
       "<table border=\"1\" class=\"dataframe\">\n",
       "  <thead>\n",
       "    <tr style=\"text-align: right;\">\n",
       "      <th></th>\n",
       "      <th>country</th>\n",
       "      <th>Year</th>\n",
       "      <th>income_by_gdp</th>\n",
       "    </tr>\n",
       "  </thead>\n",
       "  <tbody>\n",
       "    <tr>\n",
       "      <th>0</th>\n",
       "      <td>United Arab Emirates</td>\n",
       "      <td>1800</td>\n",
       "      <td>998</td>\n",
       "    </tr>\n",
       "    <tr>\n",
       "      <th>1</th>\n",
       "      <td>United Arab Emirates</td>\n",
       "      <td>1801</td>\n",
       "      <td>1000</td>\n",
       "    </tr>\n",
       "    <tr>\n",
       "      <th>2</th>\n",
       "      <td>United Arab Emirates</td>\n",
       "      <td>1802</td>\n",
       "      <td>1010</td>\n",
       "    </tr>\n",
       "    <tr>\n",
       "      <th>3</th>\n",
       "      <td>United Arab Emirates</td>\n",
       "      <td>1803</td>\n",
       "      <td>1010</td>\n",
       "    </tr>\n",
       "    <tr>\n",
       "      <th>4</th>\n",
       "      <td>United Arab Emirates</td>\n",
       "      <td>1804</td>\n",
       "      <td>1010</td>\n",
       "    </tr>\n",
       "  </tbody>\n",
       "</table>\n",
       "</div>"
      ],
      "text/plain": [
       "                country  Year  income_by_gdp\n",
       "0  United Arab Emirates  1800            998\n",
       "1  United Arab Emirates  1801           1000\n",
       "2  United Arab Emirates  1802           1010\n",
       "3  United Arab Emirates  1803           1010\n",
       "4  United Arab Emirates  1804           1010"
      ]
     },
     "execution_count": 30,
     "metadata": {},
     "output_type": "execute_result"
    }
   ],
   "source": [
    "uae_inc = tmp_inc.melt(id_vars=[\"country\"], \n",
    "        var_name=\"Year\", \n",
    "        value_name=\"income_by_gdp\")\n",
    "uae_inc.head()"
   ]
  },
  {
   "cell_type": "markdown",
   "metadata": {},
   "source": [
    "Now that I have the four dataframes that I need, I can merge them on the \"Year\" and \"country\" columns. This should merge all of that data only for years that are shared across all dataframes."
   ]
  },
  {
   "cell_type": "code",
   "execution_count": 31,
   "metadata": {},
   "outputs": [
    {
     "data": {
      "text/html": [
       "<div>\n",
       "<style scoped>\n",
       "    .dataframe tbody tr th:only-of-type {\n",
       "        vertical-align: middle;\n",
       "    }\n",
       "\n",
       "    .dataframe tbody tr th {\n",
       "        vertical-align: top;\n",
       "    }\n",
       "\n",
       "    .dataframe thead th {\n",
       "        text-align: right;\n",
       "    }\n",
       "</style>\n",
       "<table border=\"1\" class=\"dataframe\">\n",
       "  <thead>\n",
       "    <tr style=\"text-align: right;\">\n",
       "      <th></th>\n",
       "      <th>country</th>\n",
       "      <th>Year</th>\n",
       "      <th>income_by_gdp</th>\n",
       "      <th>pop_growth_percent</th>\n",
       "      <th>oil_output_person</th>\n",
       "      <th>life_expect</th>\n",
       "    </tr>\n",
       "  </thead>\n",
       "  <tbody>\n",
       "    <tr>\n",
       "      <th>0</th>\n",
       "      <td>United Arab Emirates</td>\n",
       "      <td>1965</td>\n",
       "      <td>8290</td>\n",
       "      <td>8.21</td>\n",
       "      <td>90.8</td>\n",
       "      <td>59.3</td>\n",
       "    </tr>\n",
       "    <tr>\n",
       "      <th>1</th>\n",
       "      <td>United Arab Emirates</td>\n",
       "      <td>1966</td>\n",
       "      <td>14100</td>\n",
       "      <td>6.53</td>\n",
       "      <td>109.0</td>\n",
       "      <td>60.3</td>\n",
       "    </tr>\n",
       "    <tr>\n",
       "      <th>2</th>\n",
       "      <td>United Arab Emirates</td>\n",
       "      <td>1967</td>\n",
       "      <td>24000</td>\n",
       "      <td>5.94</td>\n",
       "      <td>109.0</td>\n",
       "      <td>61.3</td>\n",
       "    </tr>\n",
       "    <tr>\n",
       "      <th>3</th>\n",
       "      <td>United Arab Emirates</td>\n",
       "      <td>1968</td>\n",
       "      <td>28800</td>\n",
       "      <td>7.30</td>\n",
       "      <td>132.0</td>\n",
       "      <td>62.2</td>\n",
       "    </tr>\n",
       "    <tr>\n",
       "      <th>4</th>\n",
       "      <td>United Arab Emirates</td>\n",
       "      <td>1969</td>\n",
       "      <td>34700</td>\n",
       "      <td>10.60</td>\n",
       "      <td>142.0</td>\n",
       "      <td>63.1</td>\n",
       "    </tr>\n",
       "  </tbody>\n",
       "</table>\n",
       "</div>"
      ],
      "text/plain": [
       "                country  Year  income_by_gdp  pop_growth_percent  \\\n",
       "0  United Arab Emirates  1965           8290                8.21   \n",
       "1  United Arab Emirates  1966          14100                6.53   \n",
       "2  United Arab Emirates  1967          24000                5.94   \n",
       "3  United Arab Emirates  1968          28800                7.30   \n",
       "4  United Arab Emirates  1969          34700               10.60   \n",
       "\n",
       "   oil_output_person  life_expect  \n",
       "0               90.8         59.3  \n",
       "1              109.0         60.3  \n",
       "2              109.0         61.3  \n",
       "3              132.0         62.2  \n",
       "4              142.0         63.1  "
      ]
     },
     "execution_count": 31,
     "metadata": {},
     "output_type": "execute_result"
    }
   ],
   "source": [
    "result = uae_inc.merge(uae_pop, on=['Year', 'country'])\n",
    "result2 = result.merge(uae_oil, on=['Year', 'country'])\n",
    "result3 = result2.merge(uae_life, on=['Year', 'country'])\n",
    "uae_complete = result3\n",
    "uae_complete.head()"
   ]
  },
  {
   "cell_type": "markdown",
   "metadata": {},
   "source": [
    "\n",
    "## Exploratory Data Analysis\n",
    "\n",
    "### Question 1: Does oil production correlate positively or negatively with the other metrics examined? What might these correlations indicate?"
   ]
  },
  {
   "cell_type": "code",
   "execution_count": 32,
   "metadata": {},
   "outputs": [
    {
     "data": {
      "text/html": [
       "<div>\n",
       "<style scoped>\n",
       "    .dataframe tbody tr th:only-of-type {\n",
       "        vertical-align: middle;\n",
       "    }\n",
       "\n",
       "    .dataframe tbody tr th {\n",
       "        vertical-align: top;\n",
       "    }\n",
       "\n",
       "    .dataframe thead th {\n",
       "        text-align: right;\n",
       "    }\n",
       "</style>\n",
       "<table border=\"1\" class=\"dataframe\">\n",
       "  <thead>\n",
       "    <tr style=\"text-align: right;\">\n",
       "      <th></th>\n",
       "      <th>income_by_gdp</th>\n",
       "      <th>pop_growth_percent</th>\n",
       "      <th>oil_output_person</th>\n",
       "      <th>life_expect</th>\n",
       "    </tr>\n",
       "  </thead>\n",
       "  <tbody>\n",
       "    <tr>\n",
       "      <th>count</th>\n",
       "      <td>52.000000</td>\n",
       "      <td>52.000000</td>\n",
       "      <td>52.000000</td>\n",
       "      <td>52.000000</td>\n",
       "    </tr>\n",
       "    <tr>\n",
       "      <th>mean</th>\n",
       "      <td>93192.115385</td>\n",
       "      <td>8.106115</td>\n",
       "      <td>68.076923</td>\n",
       "      <td>69.819231</td>\n",
       "    </tr>\n",
       "    <tr>\n",
       "      <th>std</th>\n",
       "      <td>42820.664534</td>\n",
       "      <td>4.721458</td>\n",
       "      <td>50.840487</td>\n",
       "      <td>3.685639</td>\n",
       "    </tr>\n",
       "    <tr>\n",
       "      <th>min</th>\n",
       "      <td>8290.000000</td>\n",
       "      <td>0.177000</td>\n",
       "      <td>16.100000</td>\n",
       "      <td>59.300000</td>\n",
       "    </tr>\n",
       "    <tr>\n",
       "      <th>25%</th>\n",
       "      <td>60175.000000</td>\n",
       "      <td>5.277500</td>\n",
       "      <td>32.250000</td>\n",
       "      <td>68.200000</td>\n",
       "    </tr>\n",
       "    <tr>\n",
       "      <th>50%</th>\n",
       "      <td>98500.000000</td>\n",
       "      <td>5.930000</td>\n",
       "      <td>48.200000</td>\n",
       "      <td>71.350000</td>\n",
       "    </tr>\n",
       "    <tr>\n",
       "      <th>75%</th>\n",
       "      <td>108250.000000</td>\n",
       "      <td>11.250000</td>\n",
       "      <td>95.825000</td>\n",
       "      <td>72.325000</td>\n",
       "    </tr>\n",
       "    <tr>\n",
       "      <th>max</th>\n",
       "      <td>179000.000000</td>\n",
       "      <td>17.600000</td>\n",
       "      <td>192.000000</td>\n",
       "      <td>73.200000</td>\n",
       "    </tr>\n",
       "  </tbody>\n",
       "</table>\n",
       "</div>"
      ],
      "text/plain": [
       "       income_by_gdp  pop_growth_percent  oil_output_person  life_expect\n",
       "count      52.000000           52.000000          52.000000    52.000000\n",
       "mean    93192.115385            8.106115          68.076923    69.819231\n",
       "std     42820.664534            4.721458          50.840487     3.685639\n",
       "min      8290.000000            0.177000          16.100000    59.300000\n",
       "25%     60175.000000            5.277500          32.250000    68.200000\n",
       "50%     98500.000000            5.930000          48.200000    71.350000\n",
       "75%    108250.000000           11.250000          95.825000    72.325000\n",
       "max    179000.000000           17.600000         192.000000    73.200000"
      ]
     },
     "execution_count": 32,
     "metadata": {},
     "output_type": "execute_result"
    }
   ],
   "source": [
    "uae_complete.describe()"
   ]
  },
  {
   "cell_type": "markdown",
   "metadata": {},
   "source": [
    "The basic statistical descriptions don't really provide much insight into the relationship between each variable and the production of oil, and this is likely an issue of not being able to see the increases and decreases in these variables over time. Without the time component, it may seem like higher oil production has resulted in greater incomes, higher population growth, and higher life expectancy; however, there is really no way to know for sure. It makes more sense to plot this data in line graphs. "
   ]
  },
  {
   "cell_type": "code",
   "execution_count": 36,
   "metadata": {},
   "outputs": [
    {
     "data": {
      "text/plain": [
       "Text(0, 0.5, 'Oil Output Per Person (Tonnes)')"
      ]
     },
     "execution_count": 36,
     "metadata": {},
     "output_type": "execute_result"
    },
    {
     "data": {
      "image/png": "[encoded data removed]",
      "text/plain": [
       "<Figure size 432x288 with 1 Axes>"
      ]
     },
     "metadata": {
      "needs_background": "light"
     },
     "output_type": "display_data"
    }
   ],
   "source": [
    "uae_complete.plot(x='Year', y='oil_output_person', kind=\"line\", title='Oil Ouput Over Time')\n",
    "plt.ylabel('Oil Output Per Person (Tonnes)')"
   ]
  },
  {
   "cell_type": "markdown",
   "metadata": {},
   "source": [
    "The UAE discovered oil in 1958 and sold its first exports in 1960. As we can see, around 10 years after the discovery of oil its production peaked, but has since dropped dramatically. There are likely several things going on here, 1) Early on the UAE likely had an incentive to max out production to bring the oil to market and establish its place as a global producer; 2) The price of oil has likely gone up since the UAE began producing meaning they now have to produce less to maintain a consistent profit over time, and; 3) This data measures oil output by number of inhabitants in the country. If production per person decreases significantly over time, this likely indicates that the UAE's population has increased. A later graph will examine these two variables together. "
   ]
  },
  {
   "cell_type": "code",
   "execution_count": 38,
   "metadata": {},
   "outputs": [
    {
     "data": {
      "text/plain": [
       "Text(0, 0.5, 'Income By Person (International USD)')"
      ]
     },
     "execution_count": 38,
     "metadata": {},
     "output_type": "execute_result"
    },
    {
     "data": {
      "image/png": "[encoded data removed]",
      "text/plain": [
       "<Figure size 432x288 with 1 Axes>"
      ]
     },
     "metadata": {
      "needs_background": "light"
     },
     "output_type": "display_data"
    }
   ],
   "source": [
    "uae_complete.plot(x='Year', y='income_by_gdp', kind=\"line\", title='Income by Person (of GDP)')\n",
    "plt.ylabel('Income By Person (International USD)')"
   ]
  },
  {
   "cell_type": "markdown",
   "metadata": {},
   "source": [
    "Income per person as a share of GDP seems to follow a similar, though not exact, trajectory to oil production. Once the country began producing oil the overall wealth of the population seems to have increased. This number began to fall over time. Again, this may be another indication that immigration of foreigners into the country causes the line in this graph to drop. When the UAE discovered oil, it was mostly a beduoin society and the profits from that oil would have initially benefited the Emiratis who made up most of the population. As the country began to grow and it needed to import the vast majority of its white collar and blue collar labor, we would expect the overall income of individuals to drop as there are more people (foreigners at 90% of the population) who are not being directly subsidized by oil profits (Emiratis at 10% today). In other words, the subsidized population (Emiratis) began to decrease relative to the unsubsidized population (foreign workers) whose income is tied to their nationalities (Westerners get paid more than South Asians, for example). This is likely why income appears to flatten in this graph, when in reality income distribution is much more complicated in the UAE. "
   ]
  },
  {
   "cell_type": "code",
   "execution_count": 39,
   "metadata": {},
   "outputs": [
    {
     "data": {
      "text/plain": [
       "Text(0, 0.5, 'Population Percent Increase')"
      ]
     },
     "execution_count": 39,
     "metadata": {},
     "output_type": "execute_result"
    },
    {
     "data": {
      "image/png": "[encoded data removed]",
      "text/plain": [
       "<Figure size 432x288 with 1 Axes>"
      ]
     },
     "metadata": {
      "needs_background": "light"
     },
     "output_type": "display_data"
    }
   ],
   "source": [
    "uae_complete.plot(x='Year', y='pop_growth_percent', kind=\"line\", title='Population Growth Over Time (%)')\n",
    "plt.ylabel('Population Percent Increase')"
   ]
  },
  {
   "cell_type": "markdown",
   "metadata": {},
   "source": [
    "Population growth in the UAE shows an interesting trend. We see an initial spike around the time that oil begins to peak, and then a similar drop. However, around the year 2000 the population begins to spike again, before experiencing a an even bigger drop. This suggests two things, the UAE likely began importing foreign labor soon after it began drilling for oil. We can't tell from the data we have but the largest labor groups in the UAE are brought in to do manual work, primarily construction. What this graph might suggest is cheap labor was brought in to help build oil infrastructure, then emigration from these communities saw the total population growth drop. However, around the year 2000, Dubai as a city began to expand significantly. Dubai is largely known for its massive sky rises and luxurious consumer lifestyle. As the city expanded, a new group of laborers from Asia were likely brought in at this time to not only build the city, but to staff the service sector. It is also well known in the UAE that after the financial crash that caused the Great Recession in 2008, many of these labors went back to their home countries. While the initial spike in growth likely correlates with the increased production of oil and its related infratructure, subsequent increases and drops are more likely related to economic factors. "
   ]
  },
  {
   "cell_type": "code",
   "execution_count": 40,
   "metadata": {},
   "outputs": [
    {
     "data": {
      "text/plain": [
       "Text(0, 0.5, 'Life Expectancy (Years)')"
      ]
     },
     "execution_count": 40,
     "metadata": {},
     "output_type": "execute_result"
    },
    {
     "data": {
      "image/png": "[encoded data removed]",
      "text/plain": [
       "<Figure size 432x288 with 1 Axes>"
      ]
     },
     "metadata": {
      "needs_background": "light"
     },
     "output_type": "display_data"
    }
   ],
   "source": [
    "uae_complete.plot(x='Year', y='life_expect', kind=\"line\", title='Life Expectancy Over Time (Years)')\n",
    "plt.ylabel('Life Expectancy (Years)')"
   ]
  },
  {
   "cell_type": "markdown",
   "metadata": {},
   "source": [
    "Life expectancy increased relatively significantly once the country began producing oil. There is likely a correlation here as oil production is responsible for the country's wealth and subsequent ability to develop. Generally speaking, better infrastructure, investment in public services, attraction of skilled workers (nurses, doctors, etc), increased trade and access to markets (modern medicines, foods, health and wellness services) etc, all increase life expectancy. While the correlation between oil and life expectancy is indirect, there is likely a linkage that is worth examining if the right data is available. "
   ]
  },
  {
   "cell_type": "code",
   "execution_count": 42,
   "metadata": {
    "scrolled": true
   },
   "outputs": [
    {
     "data": {
      "image/png": "[encoded data removed]",
      "text/plain": [
       "<Figure size 432x288 with 2 Axes>"
      ]
     },
     "metadata": {
      "needs_background": "light"
     },
     "output_type": "display_data"
    }
   ],
   "source": [
    "ax=uae_complete.plot(kind='line', x='Year', y='oil_output_person', label = 'Oil Output', color='DarkBlue', title='Oil Output vs Income')\n",
    "\n",
    "ax2=uae_complete.plot(kind='line', x='Year', y='income_by_gdp', label = 'Income', secondary_y=True,color='Red', ax=ax)\n",
    "\n",
    "ax.set_ylabel('Oil Output (Tonnes) Per Person')\n",
    "ax2.set_ylabel('Income Per Person (International USD)')\n",
    "plt.tight_layout()\n",
    "plt.show()"
   ]
  },
  {
   "cell_type": "markdown",
   "metadata": {},
   "source": [
    "When plotting oil output alongside income, we see a positive correlation between the two. In fact we see similar, if slightly delayed, rises and falls in income following rises and falls in oil output. In my comments on the oil output graph above, I suggested that maybe the fall in oil output (measured tonnes/person)may indicate an increase in the UAE's overall population. While that still may be true, we don't have the data to say for sure, these two graphs together would indicate that income still increased when there were marginal increases in production regardless. "
   ]
  },
  {
   "cell_type": "code",
   "execution_count": 43,
   "metadata": {},
   "outputs": [
    {
     "data": {
      "image/png": "[encoded data removed]",
      "text/plain": [
       "<Figure size 432x288 with 2 Axes>"
      ]
     },
     "metadata": {
      "needs_background": "light"
     },
     "output_type": "display_data"
    }
   ],
   "source": [
    "ax=uae_complete.plot(kind='line', x='Year', y='oil_output_person', label = 'Oil Output', color='DarkBlue', title='Oil Output vs Population Growth')\n",
    "\n",
    "ax2=uae_complete.plot(kind='line', x='Year', y='pop_growth_percent', label = 'Population Growth', secondary_y=True,color='Red', ax=ax)\n",
    "\n",
    "ax.set_ylabel('Oil Output (Tonnes) Per Person')\n",
    "ax2.set_ylabel('Population Growth (%)')\n",
    "plt.tight_layout()\n",
    "plt.show()"
   ]
  },
  {
   "cell_type": "markdown",
   "metadata": {},
   "source": [
    "When comparing oil output to population growth we see a positive correlation in the first half of the graph and a negative correlation in the second half. This likely indicates that my assessment of the population growth graph above is correct, where population growth increased after the UAE discovered oil and needed foreign workers to build the associated infrastructure. The second spike in population growth, again, likely coincides with the expansion of infrastructure and services to build a modern consumer economy, primarily in Dubai which doesn't have oil, that required more foreign labor. Its subsequent drop coincides with the Great Recession, its safe to assume this was the cause; however, without specific immigration data we can't say with 100% certainty that oil output correlates with this drop. "
   ]
  },
  {
   "cell_type": "code",
   "execution_count": 44,
   "metadata": {},
   "outputs": [
    {
     "data": {
      "text/plain": [
       "<Figure size 1440x1440 with 0 Axes>"
      ]
     },
     "metadata": {},
     "output_type": "display_data"
    },
    {
     "data": {
      "image/png": "[encoded data removed]",
      "text/plain": [
       "<Figure size 432x288 with 2 Axes>"
      ]
     },
     "metadata": {
      "needs_background": "light"
     },
     "output_type": "display_data"
    }
   ],
   "source": [
    "fig = plt.gcf()\n",
    "fig.set_size_inches(20, 20)\n",
    "\n",
    "ax=uae_complete.plot(kind='line', x='Year', y='oil_output_person', label = 'Oil Output', color='DarkBlue', title='Oil Output vs Life Expectancy')\n",
    "\n",
    "ax2=uae_complete.plot(kind='line', x='Year', y='life_expect', label = 'Life Expectancy', secondary_y=True,color='Red', ax=ax)\n",
    "\n",
    "ax.set_ylabel('Oil Output (Tonnes) Per Person')\n",
    "ax2.set_ylabel('Life Expectancy (Years)')\n",
    "plt.tight_layout()\n",
    "plt.show()"
   ]
  },
  {
   "cell_type": "markdown",
   "metadata": {},
   "source": [
    "Oil output and life expectancy are negatively correlated throughout the time period examined. However, it may not make a lot of sense to compare these two measures for reasons I mentioned above. Since the oil output data is measured in tonnes produced per person, as the population increases the line on the graph will likely trend downward. This would give the appearance of a negative correlation when, in fact we know that oil production is directly responsible for the development of a modern state and modern consumer economy in the UAE. We can assume that increases in all of the quality of life indicators would correlate to increased life expectancy as well. This will be look at in further detail in the next section. \n",
    "\n",
    "*Note - despite trying to move the legend to a better location I could not remove the old legend, and all code tried only moved the legend for the red line. "
   ]
  },
  {
   "cell_type": "markdown",
   "metadata": {},
   "source": [
    "### Research Question 2: What, if any, correllations exist between independent variables and do they provide insights not found when comparing the independent and dependent variables\n",
    "  "
   ]
  },
  {
   "cell_type": "code",
   "execution_count": 45,
   "metadata": {},
   "outputs": [
    {
     "data": {
      "image/png": "[encoded data removed]",
      "text/plain": [
       "<Figure size 432x288 with 2 Axes>"
      ]
     },
     "metadata": {
      "needs_background": "light"
     },
     "output_type": "display_data"
    }
   ],
   "source": [
    "ax=uae_complete.plot(kind='line', x='Year', y='pop_growth_percent', color='DarkBlue', title='Population Growth vs Life Expectancy', label = 'Population Growth')\n",
    "\n",
    "ax2=uae_complete.plot(kind='line', x='Year', y='life_expect', label = 'Life Expectency', secondary_y=True,color='Red', ax=ax)\n",
    "\n",
    "ax2.set_ylabel('Life Expectancy')\n",
    "ax.set_ylabel('Population Growth (%)')\n",
    "\n",
    "plt.tight_layout()\n",
    "plt.show()"
   ]
  },
  {
   "cell_type": "markdown",
   "metadata": {},
   "source": [
    "It does not appear that we can gleen much when comparing population growth to life expectancy. We could assume that population and life expectancy correlate positively over time as, generally speaking, populations grow as counrtries modernize and life expectancy increases. However, given the UAE relies so much on foreign labor as a percentage of its population, comparing these two metrics might otherwise indicate some sort of mass population change like forced population transfers, ethnic cleansing/genocide, or some other massive loss of life. We know this is not the case. \n",
    "\n",
    "*Note - despite trying to move the legend to a better location I could not remove the old legend, and all code tried only moved the legend for the red line."
   ]
  },
  {
   "cell_type": "code",
   "execution_count": 48,
   "metadata": {},
   "outputs": [
    {
     "data": {
      "image/png": "[encoded data removed]",
      "text/plain": [
       "<Figure size 432x288 with 2 Axes>"
      ]
     },
     "metadata": {
      "needs_background": "light"
     },
     "output_type": "display_data"
    }
   ],
   "source": [
    "ax=uae_complete.plot(kind='line', x='Year', y='life_expect', label = 'Life Expectancy', color='DarkBlue', title='Life Expectancy vs Income')\n",
    "\n",
    "ax2=uae_complete.plot(kind='line', x='Year', y='income_by_gdp', label = 'Income', secondary_y=True,color='Red', ax=ax)\n",
    "\n",
    "ax.set_ylabel('Life Expectancy (Years)')\n",
    "ax2.set_ylabel('Income (International USD)')\n",
    "\n",
    "plt.tight_layout()\n",
    "plt.show()"
   ]
  },
  {
   "cell_type": "markdown",
   "metadata": {},
   "source": [
    "Again, the correlations between these two data sets are bit strange. While both correlate positively around the time oil was discovered, indeed the steepest point in the life expectancy curve correlates to the highest income levels, life expectancy continued to increase while incomes decreased. The income line may be subject to the same forces as the oil production (tonnes/person) line, where as the population increases this line would be expected to level off or decrease due to increasing numbers of foreign workers entering the country at different periods. \n",
    "\n",
    "*Note - despite trying to move the legend to a better location I could not remove the old legend, and all code tried only moved the legend for the red line."
   ]
  },
  {
   "cell_type": "code",
   "execution_count": 49,
   "metadata": {},
   "outputs": [
    {
     "data": {
      "image/png": "[encoded data removed]",
      "text/plain": [
       "<Figure size 432x288 with 2 Axes>"
      ]
     },
     "metadata": {
      "needs_background": "light"
     },
     "output_type": "display_data"
    }
   ],
   "source": [
    "ax=uae_complete.plot(kind='line', x='Year', y='pop_growth_percent', label = 'Population Growth', color='DarkBlue', title='Population Growth vs Income')\n",
    "\n",
    "ax2=uae_complete.plot(kind='line', x='Year', y='income_by_gdp', label = 'Income', secondary_y=True,color='Red', ax=ax)\n",
    "\n",
    "ax.set_ylabel('Population Growth (%)')\n",
    "ax2.set_ylabel('Income (International USD)')\n",
    "plt.tight_layout()\n",
    "plt.show()"
   ]
  },
  {
   "cell_type": "markdown",
   "metadata": {},
   "source": [
    "When comparing population growth to income by GDP per person we would expect them to more or less correlate as they do above. When oil was first discovered, the industry generated lots of economic activity and likely attracted tons of foreign labor so we would expect both metrics to increase significantly. We would expect income to also slowly decline as populations increase over time as well, as seen in the early 2000s. Due to the limitations of the data, it is unclear if the income line increased significantly as we might expect following the crash in 2008 and the subsequent departure of large portions of the foriegn worker community. \n",
    "\n",
    "*Note - despite trying to move the legend to a better location I could not remove the old legend, and all code tried only moved the legend for the red line."
   ]
  },
  {
   "cell_type": "code",
   "execution_count": 53,
   "metadata": {},
   "outputs": [
    {
     "data": {
      "text/plain": [
       "<matplotlib.axes._subplots.AxesSubplot at 0x1a279efdd0>"
      ]
     },
     "execution_count": 53,
     "metadata": {},
     "output_type": "execute_result"
    },
    {
     "data": {
      "image/png": "[encoded data removed]",
      "text/plain": [
       "<Figure size 432x288 with 2 Axes>"
      ]
     },
     "metadata": {
      "needs_background": "light"
     },
     "output_type": "display_data"
    }
   ],
   "source": [
    "import seaborn as sns\n",
    "data = uae_complete\n",
    "\n",
    "Index= ['Oil Output', 'Life Exp', 'Pop Growth', 'Income']\n",
    "Cols = ['Oil Output', 'Life Exp', 'Pop Growth', 'Income']\n",
    "uae_complete = pd.DataFrame(abs(np.random.randn(4, 4)), index=Index, columns=Cols)\n",
    "uae_complete.style.background_gradient(cmap='Greens')\n",
    "\n",
    "corr = data.corr()\n",
    "sns.heatmap(corr, \n",
    "    vmin=-1, vmax=1, center=0,\n",
    "    cmap=sns.diverging_palette(20, 220, n=200),\n",
    "    square=True)"
   ]
  },
  {
   "cell_type": "markdown",
   "metadata": {},
   "source": [
    "The heatmap shows the correlation between each of the datasets. Our findings above are accurately reflected here, though the heatmap doesn't necessarily provide the nuance needed to understand the negative correlation between say oil output and life expectancy or population growth and income. Again, as described above these negative correlations are more an issue of quirks in how the UAE economy developed, and how the data we have is measured, rather than actual disparities in increasing quality of life and development indicators. "
   ]
  },
  {
   "cell_type": "markdown",
   "metadata": {},
   "source": [
    "\n",
    "# Conclusions\n"
   ]
  },
  {
   "cell_type": "markdown",
   "metadata": {
    "collapsed": true
   },
   "source": [
    "## Summary\n",
    "\n",
    "### Oil Production Impact on Development Indicators\n",
    "\n",
    "The UAE is in a unique situation in terms of its overall development. Its development has clearly been fueled by its vast oil resources, its unique geographic position, and its small local population. However the data examined in this project provided some interesting insights into the how effective oil revenues were in impacting the dependent variables over time. We can at least understand the following:\n",
    "\n",
    "1. Oil likely serves as the basis for income by GDP per person even as production slows over time. Again, the drop in oil production also likely indicates an increase in population, as well as the diversification of the Emirati economy, but it is likely safe to say that oil acts like a \"floor\" or constant in supporting the countries development indicators, including many not examined in this project. \n",
    "\n",
    "2. Oil production also clearly impacted population growth up until the UAE economy began to diversify into a consumer and tourism heavy economy. This is not super clear just based on the UAE and oil data alone as these assumptions are being drawn from knowledge and context gained from living here. Furthermore, the UAE a bit of an outlier in terms of its development, so the population swings when compared to any other data set will likely look strange and be difficult to explain.\n",
    "\n",
    "3. The steepest growth in life expectancy correlated to the peak of initial oil production. Again, while this linkage isn't necessarily evident on face, when considered alongside a basic understanding of economics and development it makes sense that significant increases in GDP and the production of a valuable resource would result in greater investment in infrastructure, public health, and public services. It takes money to invest in your people, and when done correctly it is likely that life expectancy will go up. \n",
    "\n",
    "4. When comparing independent variables to each other we get a better idea of how the UAE's unique situation can skew our understanding of the data. While population fluctuates drastically, life expectancy goes up. There are few events in the world that would help an analyst make sense of this data without a sound understanding of the environment from which that data is taken. Similarly, income appears to continue dropping despite fluctuations in population. We do not have enough data to truly understand if mass population loss would increase overall income, so comparing these data on face would again be confusing to an outsider. Finally, when controlling for income data likely decreasing due to increasing population, we can see how a negative correlation between life expectancy and income may make sense, but, again, just examining these metrics together does not necessarily provide all the information needed to draw that conclusion. \n",
    "\n",
    "### Limitations\n",
    "\n",
    "There were several instances where additional data could have provided more clarity on how each of these development measures really operate in the real world. The limitations of these data prevent us from drawing hard conclusions on anything, but it does reveal the following:\n",
    "\n",
    "1. Immigration/emmigration data would give us a better understanding of when/where the foreign workers were coming from and going to. Since income is tied to a worker's nationality, we could have better controlled for drops in incomes that may simply be tied to demographic changes. \n",
    "\n",
    "2. The oil data was inherently limited because the data only tied production back to the number of UAE residents. Furthermore, the data was unclear as to whether production continues to decline due to pricing, limitations in global demand and supply, or any other economic indicator whether local or international. Additional data may have helped explain this. \n",
    "\n",
    "3. Lastly, additional life expectancy data, rather than just raw age data, could have helped us further examine why life expectancy continued increasing while other metrics fluctuated so much. While the data makes it appear that the initial increase in life expectancy was likely related to oil production and its associated revenue streams, we cannot say for sure. Additional information on state investements or access to healthcare, eating habits, and rates of sickness may have complimented this data and our findings."
   ]
  }
 ],
 "metadata": {
  "kernelspec": {
   "display_name": "Python 3",
   "language": "python",
   "name": "python3"
  },
  "language_info": {
   "codemirror_mode": {
    "name": "ipython",
    "version": 3
   },
   "file_extension": ".py",
   "mimetype": "text/x-python",
   "name": "python",
   "nbconvert_exporter": "python",
   "pygments_lexer": "ipython3",
   "version": "3.7.6"
  }
 },
 "nbformat": 4,
 "nbformat_minor": 2
}
